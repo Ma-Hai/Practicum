{
  "cells": [
    {
      "cell_type": "markdown",
      "metadata": {
        "id": "BT_QqpneLNwY"
      },
      "source": [
        "## Documentation Exercise\n",
        "\n",
        "Below is a function **without any docstring or comments**. Your task is to:\n",
        "\n",
        "1. Correct the syntax. \n",
        "2. Read and understand what it does (you'll have to try to break it to understand what valueErrors are possible).  \n",
        "3. Add a professional-grade docstring.  \n",
        "4. Sprinkle inline comments where needed for clarity.  \n",
        "5. Optionally include type hints and error handling.\n",
        "\n",
        "\n"
      ]
    },
    {
      "cell_type": "code",
      "execution_count": null,
      "metadata": {
        "id": "BeOQ003zLJUP"
      },
      "outputs": [
        {
          "data": {
            "text/plain": [
              "{'count': 3, 'sum': -2, 'mean': -0.6666666666666666, 'above_threshold': [1, 3]}"
            ]
          },
          "execution_count": 6,
          "metadata": {},
          "output_type": "execute_result"
        }
      ],
      "source": [
        "def summarize_data(values, threshold=0):\n",
        "    \"\"\"\n",
        "    Compute the count, sum, mean, and documents the numbers above threshold.\n",
        "\n",
        "    Parameters\n",
        "    ----------\n",
        "    values : Sequence[float]\n",
        "        A non-empty sequence (e.g., list, tuple, or 1D array) of numeric data.\n",
        "    threshold: int\n",
        "        Defines the threshold whens documenting numbers above it.\n",
        "    Returns\n",
        "    -------\n",
        "    dictionary\n",
        "        count of total terms in values, sum of terms, mean of terms in values, \n",
        "        list of which numbers are above threshold\n",
        "    Raises\n",
        "    ------\n",
        "    ValueError\n",
        "        If `values` is empty.\n",
        "    Examples\n",
        "    --------\n",
        "    >>> summarize_data((1,-6,3))\n",
        "    {'count': 3, 'sum': -2, 'mean': -0.6666666666666666, 'above_threshold': [1, 3]}\n",
        "    >>> summarize_data((10.0, -2.0, 4.0))\n",
        "    {'count': 3, 'sum': 12.0, 'mean': 4.0, 'above_threshold': [10.0, 4.0]}\n",
        "    >>> summarize_data([])  # empty sequence\n",
        "    Traceback (most recent call last):\n",
        "        ...\n",
        "    ValueError: 'values' must contain at least one element\n",
        "    \"\"\"\n",
        "    sum_values = 0\n",
        "    count = 0\n",
        "    above = []\n",
        "    for v in values:\n",
        "        sum_values += v\n",
        "        count += 1\n",
        "        if v > threshold:\n",
        "            above.append(v)\n",
        "    if count == 0:\n",
        "        raise ValueError(\"'values' must contain at least one element\")\n",
        "    mean = sum_values / count\n",
        "    #Labels all data and stores it in 'result'\n",
        "    result = {\n",
        "    'count': count,\n",
        "    'sum': sum_values,\n",
        "    'mean': mean,\n",
        "    'above_threshold': above\n",
        "    }\n",
        "    return result\n",
        "summarize_data((1,-6,3))"
      ]
    },
    {
      "cell_type": "markdown",
      "metadata": {
        "id": "UZSVyp03Lrpu"
      },
      "source": [
        "## Example"
      ]
    },
    {
      "cell_type": "code",
      "execution_count": null,
      "metadata": {
        "id": "_kU6N2DJLK4w"
      },
      "outputs": [],
      "source": [
        "from typing import Sequence\n",
        "\n",
        "# Here, Sequence[float] is just a static type hint: it tells IDEs\n",
        "# that `values` should be an ordered, indexable collection of floats (like a list or tuple),\n",
        "# but Python itself won’t enforce it at runtime.\n",
        "\n",
        "\n",
        "def calculate_mean(values: Sequence[float]) -> float:\n",
        "    \"\"\"\n",
        "    Compute the arithmetic mean of a sequence of numbers.\n",
        "\n",
        "    Parameters\n",
        "    ----------\n",
        "    values : Sequence[float]\n",
        "        A non-empty sequence (e.g., list, tuple, or 1D array) of numeric data.\n",
        "\n",
        "    Returns\n",
        "    -------\n",
        "    float\n",
        "        The arithmetic mean: sum(values) / len(values).\n",
        "\n",
        "    Raises\n",
        "    ------\n",
        "    ValueError\n",
        "        If `values` is empty.\n",
        "\n",
        "    Examples\n",
        "    --------\n",
        "    >>> calculate_mean([1, 2, 3, 4])\n",
        "    2.5\n",
        "    >>> calculate_mean((10.0, -2.0, 4.0))\n",
        "    4.0\n",
        "    >>> calculate_mean([])  # empty sequence\n",
        "    Traceback (most recent call last):\n",
        "        ...\n",
        "    ValueError: 'values' must contain at least one element\n",
        "    \"\"\"\n",
        "    count = len(values)\n",
        "    if count == 0:\n",
        "        raise ValueError(\"'values' must contain at least one element\")\n",
        "    total = sum(values)\n",
        "    return total / count\n",
        "\n"
      ]
    },
    {
      "cell_type": "code",
      "execution_count": null,
      "metadata": {
        "id": "mQ6PFYcOLus5"
      },
      "outputs": [],
      "source": []
    }
  ],
  "metadata": {
    "colab": {
      "provenance": []
    },
    "kernelspec": {
      "display_name": "Python 3",
      "name": "python3"
    },
    "language_info": {
      "codemirror_mode": {
        "name": "ipython",
        "version": 3
      },
      "file_extension": ".py",
      "mimetype": "text/x-python",
      "name": "python",
      "nbconvert_exporter": "python",
      "pygments_lexer": "ipython3",
      "version": "3.11.9"
    }
  },
  "nbformat": 4,
  "nbformat_minor": 0
}
